{
 "cells": [
  {
   "cell_type": "code",
   "execution_count": 1,
   "id": "96a69017",
   "metadata": {},
   "outputs": [],
   "source": [
    "import numpy as np\n",
    "import pandas as pd\n",
    "from linear_regression import LinearRegression1\n",
    "import matplotlib.pyplot as plt\n",
    "import seaborn as sns"
   ]
  },
  {
   "cell_type": "code",
   "execution_count": 2,
   "id": "84e479b6",
   "metadata": {},
   "outputs": [],
   "source": [
    "df = pd.read_csv(r\"/Users/macbook/Desktop/My Projects/Linear Regression From Scratch/real_estate_listings.csv\")"
   ]
  },
  {
   "cell_type": "code",
   "execution_count": 3,
   "id": "b12419b4",
   "metadata": {},
   "outputs": [
    {
     "data": {
      "text/html": [
       "<div>\n",
       "<style scoped>\n",
       "    .dataframe tbody tr th:only-of-type {\n",
       "        vertical-align: middle;\n",
       "    }\n",
       "\n",
       "    .dataframe tbody tr th {\n",
       "        vertical-align: top;\n",
       "    }\n",
       "\n",
       "    .dataframe thead th {\n",
       "        text-align: right;\n",
       "    }\n",
       "</style>\n",
       "<table border=\"1\" class=\"dataframe\">\n",
       "  <thead>\n",
       "    <tr style=\"text-align: right;\">\n",
       "      <th></th>\n",
       "      <th>Price</th>\n",
       "      <th>Currency</th>\n",
       "      <th>Location</th>\n",
       "      <th>Rooms</th>\n",
       "      <th>Area</th>\n",
       "      <th>Floor</th>\n",
       "    </tr>\n",
       "  </thead>\n",
       "  <tbody>\n",
       "    <tr>\n",
       "      <th>0</th>\n",
       "      <td>140 000</td>\n",
       "      <td>AZN</td>\n",
       "      <td>İnşaatçılar m.</td>\n",
       "      <td>2 otaqlı</td>\n",
       "      <td>50 m²</td>\n",
       "      <td>4/5 mərtəbə</td>\n",
       "    </tr>\n",
       "    <tr>\n",
       "      <th>1</th>\n",
       "      <td>414 000</td>\n",
       "      <td>AZN</td>\n",
       "      <td>Gənclik m.</td>\n",
       "      <td>3 otaqlı</td>\n",
       "      <td>140.8 m²</td>\n",
       "      <td>15/17 mərtəbə</td>\n",
       "    </tr>\n",
       "    <tr>\n",
       "      <th>2</th>\n",
       "      <td>235 000</td>\n",
       "      <td>AZN</td>\n",
       "      <td>28 May m.</td>\n",
       "      <td>3 otaqlı</td>\n",
       "      <td>70 m²</td>\n",
       "      <td>6/6 mərtəbə</td>\n",
       "    </tr>\n",
       "    <tr>\n",
       "      <th>3</th>\n",
       "      <td>335 000</td>\n",
       "      <td>AZN</td>\n",
       "      <td>Nəsimi r.</td>\n",
       "      <td>3 otaqlı</td>\n",
       "      <td>150 m²</td>\n",
       "      <td>4/17 mərtəbə</td>\n",
       "    </tr>\n",
       "    <tr>\n",
       "      <th>4</th>\n",
       "      <td>159 000</td>\n",
       "      <td>AZN</td>\n",
       "      <td>Həzi Aslanov m.</td>\n",
       "      <td>2 otaqlı</td>\n",
       "      <td>76 m²</td>\n",
       "      <td>11/16 mərtəbə</td>\n",
       "    </tr>\n",
       "    <tr>\n",
       "      <th>...</th>\n",
       "      <td>...</td>\n",
       "      <td>...</td>\n",
       "      <td>...</td>\n",
       "      <td>...</td>\n",
       "      <td>...</td>\n",
       "      <td>...</td>\n",
       "    </tr>\n",
       "    <tr>\n",
       "      <th>1423</th>\n",
       "      <td>204 000</td>\n",
       "      <td>AZN</td>\n",
       "      <td>Yasamal r.</td>\n",
       "      <td>3 otaqlı</td>\n",
       "      <td>90 m²</td>\n",
       "      <td>9/9 mərtəbə</td>\n",
       "    </tr>\n",
       "    <tr>\n",
       "      <th>1424</th>\n",
       "      <td>166 000</td>\n",
       "      <td>AZN</td>\n",
       "      <td>Bakıxanov q.</td>\n",
       "      <td>3 otaqlı</td>\n",
       "      <td>91 m²</td>\n",
       "      <td>12/14 mərtəbə</td>\n",
       "    </tr>\n",
       "    <tr>\n",
       "      <th>1425</th>\n",
       "      <td>420 000</td>\n",
       "      <td>AZN</td>\n",
       "      <td>Elmlər Akademiyası m.</td>\n",
       "      <td>3 otaqlı</td>\n",
       "      <td>119.1 m²</td>\n",
       "      <td>11/18 mərtəbə</td>\n",
       "    </tr>\n",
       "    <tr>\n",
       "      <th>1426</th>\n",
       "      <td>1 200 000</td>\n",
       "      <td>AZN</td>\n",
       "      <td>Gənclik m.</td>\n",
       "      <td>5 otaqlı</td>\n",
       "      <td>300 m²</td>\n",
       "      <td>4/9 mərtəbə</td>\n",
       "    </tr>\n",
       "    <tr>\n",
       "      <th>1427</th>\n",
       "      <td>179 000</td>\n",
       "      <td>AZN</td>\n",
       "      <td>20 Yanvar m.</td>\n",
       "      <td>2 otaqlı</td>\n",
       "      <td>70 m²</td>\n",
       "      <td>4/16 mərtəbə</td>\n",
       "    </tr>\n",
       "  </tbody>\n",
       "</table>\n",
       "<p>1428 rows × 6 columns</p>\n",
       "</div>"
      ],
      "text/plain": [
       "          Price Currency               Location     Rooms      Area  \\\n",
       "0       140 000      AZN         İnşaatçılar m.  2 otaqlı     50 m²   \n",
       "1       414 000      AZN             Gənclik m.  3 otaqlı  140.8 m²   \n",
       "2       235 000      AZN              28 May m.  3 otaqlı     70 m²   \n",
       "3       335 000      AZN              Nəsimi r.  3 otaqlı    150 m²   \n",
       "4       159 000      AZN        Həzi Aslanov m.  2 otaqlı     76 m²   \n",
       "...         ...      ...                    ...       ...       ...   \n",
       "1423    204 000      AZN             Yasamal r.  3 otaqlı     90 m²   \n",
       "1424    166 000      AZN           Bakıxanov q.  3 otaqlı     91 m²   \n",
       "1425    420 000      AZN  Elmlər Akademiyası m.  3 otaqlı  119.1 m²   \n",
       "1426  1 200 000      AZN             Gənclik m.  5 otaqlı    300 m²   \n",
       "1427    179 000      AZN           20 Yanvar m.  2 otaqlı     70 m²   \n",
       "\n",
       "              Floor  \n",
       "0       4/5 mərtəbə  \n",
       "1     15/17 mərtəbə  \n",
       "2       6/6 mərtəbə  \n",
       "3      4/17 mərtəbə  \n",
       "4     11/16 mərtəbə  \n",
       "...             ...  \n",
       "1423    9/9 mərtəbə  \n",
       "1424  12/14 mərtəbə  \n",
       "1425  11/18 mərtəbə  \n",
       "1426    4/9 mərtəbə  \n",
       "1427   4/16 mərtəbə  \n",
       "\n",
       "[1428 rows x 6 columns]"
      ]
     },
     "execution_count": 3,
     "metadata": {},
     "output_type": "execute_result"
    }
   ],
   "source": [
    "df"
   ]
  },
  {
   "cell_type": "code",
   "execution_count": 4,
   "id": "ff9e619c",
   "metadata": {},
   "outputs": [
    {
     "data": {
      "text/html": [
       "<div>\n",
       "<style scoped>\n",
       "    .dataframe tbody tr th:only-of-type {\n",
       "        vertical-align: middle;\n",
       "    }\n",
       "\n",
       "    .dataframe tbody tr th {\n",
       "        vertical-align: top;\n",
       "    }\n",
       "\n",
       "    .dataframe thead th {\n",
       "        text-align: right;\n",
       "    }\n",
       "</style>\n",
       "<table border=\"1\" class=\"dataframe\">\n",
       "  <thead>\n",
       "    <tr style=\"text-align: right;\">\n",
       "      <th></th>\n",
       "      <th>Price</th>\n",
       "      <th>Currency</th>\n",
       "      <th>Location</th>\n",
       "      <th>Rooms</th>\n",
       "      <th>Area</th>\n",
       "      <th>Floor</th>\n",
       "    </tr>\n",
       "  </thead>\n",
       "  <tbody>\n",
       "    <tr>\n",
       "      <th>66</th>\n",
       "      <td>358 000</td>\n",
       "      <td>AZN</td>\n",
       "      <td>Nəsimi r.</td>\n",
       "      <td>3 otaqlı</td>\n",
       "      <td>126 m²</td>\n",
       "      <td>9/16 mərtəbə</td>\n",
       "    </tr>\n",
       "    <tr>\n",
       "      <th>269</th>\n",
       "      <td>358 000</td>\n",
       "      <td>AZN</td>\n",
       "      <td>Nəsimi r.</td>\n",
       "      <td>3 otaqlı</td>\n",
       "      <td>126 m²</td>\n",
       "      <td>9/16 mərtəbə</td>\n",
       "    </tr>\n",
       "    <tr>\n",
       "      <th>282</th>\n",
       "      <td>155 000</td>\n",
       "      <td>AZN</td>\n",
       "      <td>Xətai r.</td>\n",
       "      <td>3 otaqlı</td>\n",
       "      <td>115 m²</td>\n",
       "      <td>19/21 mərtəbə</td>\n",
       "    </tr>\n",
       "    <tr>\n",
       "      <th>308</th>\n",
       "      <td>210 775</td>\n",
       "      <td>AZN</td>\n",
       "      <td>Nərimanov r.</td>\n",
       "      <td>2 otaqlı</td>\n",
       "      <td>84.3 m²</td>\n",
       "      <td>8/14 mərtəbə</td>\n",
       "    </tr>\n",
       "    <tr>\n",
       "      <th>317</th>\n",
       "      <td>120 000</td>\n",
       "      <td>AZN</td>\n",
       "      <td>Həzi Aslanov m.</td>\n",
       "      <td>2 otaqlı</td>\n",
       "      <td>52 m²</td>\n",
       "      <td>4/9 mərtəbə</td>\n",
       "    </tr>\n",
       "    <tr>\n",
       "      <th>...</th>\n",
       "      <td>...</td>\n",
       "      <td>...</td>\n",
       "      <td>...</td>\n",
       "      <td>...</td>\n",
       "      <td>...</td>\n",
       "      <td>...</td>\n",
       "    </tr>\n",
       "    <tr>\n",
       "      <th>1423</th>\n",
       "      <td>204 000</td>\n",
       "      <td>AZN</td>\n",
       "      <td>Yasamal r.</td>\n",
       "      <td>3 otaqlı</td>\n",
       "      <td>90 m²</td>\n",
       "      <td>9/9 mərtəbə</td>\n",
       "    </tr>\n",
       "    <tr>\n",
       "      <th>1424</th>\n",
       "      <td>166 000</td>\n",
       "      <td>AZN</td>\n",
       "      <td>Bakıxanov q.</td>\n",
       "      <td>3 otaqlı</td>\n",
       "      <td>91 m²</td>\n",
       "      <td>12/14 mərtəbə</td>\n",
       "    </tr>\n",
       "    <tr>\n",
       "      <th>1425</th>\n",
       "      <td>420 000</td>\n",
       "      <td>AZN</td>\n",
       "      <td>Elmlər Akademiyası m.</td>\n",
       "      <td>3 otaqlı</td>\n",
       "      <td>119.1 m²</td>\n",
       "      <td>11/18 mərtəbə</td>\n",
       "    </tr>\n",
       "    <tr>\n",
       "      <th>1426</th>\n",
       "      <td>1 200 000</td>\n",
       "      <td>AZN</td>\n",
       "      <td>Gənclik m.</td>\n",
       "      <td>5 otaqlı</td>\n",
       "      <td>300 m²</td>\n",
       "      <td>4/9 mərtəbə</td>\n",
       "    </tr>\n",
       "    <tr>\n",
       "      <th>1427</th>\n",
       "      <td>179 000</td>\n",
       "      <td>AZN</td>\n",
       "      <td>20 Yanvar m.</td>\n",
       "      <td>2 otaqlı</td>\n",
       "      <td>70 m²</td>\n",
       "      <td>4/16 mərtəbə</td>\n",
       "    </tr>\n",
       "  </tbody>\n",
       "</table>\n",
       "<p>116 rows × 6 columns</p>\n",
       "</div>"
      ],
      "text/plain": [
       "          Price Currency               Location     Rooms      Area  \\\n",
       "66      358 000      AZN              Nəsimi r.  3 otaqlı    126 m²   \n",
       "269     358 000      AZN              Nəsimi r.  3 otaqlı    126 m²   \n",
       "282     155 000      AZN               Xətai r.  3 otaqlı    115 m²   \n",
       "308     210 775      AZN           Nərimanov r.  2 otaqlı   84.3 m²   \n",
       "317     120 000      AZN        Həzi Aslanov m.  2 otaqlı     52 m²   \n",
       "...         ...      ...                    ...       ...       ...   \n",
       "1423    204 000      AZN             Yasamal r.  3 otaqlı     90 m²   \n",
       "1424    166 000      AZN           Bakıxanov q.  3 otaqlı     91 m²   \n",
       "1425    420 000      AZN  Elmlər Akademiyası m.  3 otaqlı  119.1 m²   \n",
       "1426  1 200 000      AZN             Gənclik m.  5 otaqlı    300 m²   \n",
       "1427    179 000      AZN           20 Yanvar m.  2 otaqlı     70 m²   \n",
       "\n",
       "              Floor  \n",
       "66     9/16 mərtəbə  \n",
       "269    9/16 mərtəbə  \n",
       "282   19/21 mərtəbə  \n",
       "308    8/14 mərtəbə  \n",
       "317     4/9 mərtəbə  \n",
       "...             ...  \n",
       "1423    9/9 mərtəbə  \n",
       "1424  12/14 mərtəbə  \n",
       "1425  11/18 mərtəbə  \n",
       "1426    4/9 mərtəbə  \n",
       "1427   4/16 mərtəbə  \n",
       "\n",
       "[116 rows x 6 columns]"
      ]
     },
     "execution_count": 4,
     "metadata": {},
     "output_type": "execute_result"
    }
   ],
   "source": [
    "df[df.duplicated()]"
   ]
  },
  {
   "cell_type": "code",
   "execution_count": 5,
   "id": "1dfb8937",
   "metadata": {},
   "outputs": [],
   "source": [
    "df.drop_duplicates(inplace=True)"
   ]
  },
  {
   "cell_type": "code",
   "execution_count": 6,
   "id": "f4807d12",
   "metadata": {},
   "outputs": [
    {
     "name": "stdout",
     "output_type": "stream",
     "text": [
      "<class 'pandas.core.frame.DataFrame'>\n",
      "Index: 1312 entries, 0 to 1411\n",
      "Data columns (total 6 columns):\n",
      " #   Column    Non-Null Count  Dtype \n",
      "---  ------    --------------  ----- \n",
      " 0   Price     1312 non-null   object\n",
      " 1   Currency  1312 non-null   object\n",
      " 2   Location  1312 non-null   object\n",
      " 3   Rooms     1312 non-null   object\n",
      " 4   Area      1312 non-null   object\n",
      " 5   Floor     1312 non-null   object\n",
      "dtypes: object(6)\n",
      "memory usage: 71.8+ KB\n"
     ]
    }
   ],
   "source": [
    "df.info()"
   ]
  },
  {
   "cell_type": "code",
   "execution_count": 7,
   "id": "649cc3f8",
   "metadata": {},
   "outputs": [],
   "source": [
    "df.reset_index(inplace=True, drop=True)"
   ]
  },
  {
   "cell_type": "code",
   "execution_count": 8,
   "id": "af165fe8",
   "metadata": {},
   "outputs": [
    {
     "name": "stdout",
     "output_type": "stream",
     "text": [
      "<class 'pandas.core.frame.DataFrame'>\n",
      "RangeIndex: 1312 entries, 0 to 1311\n",
      "Data columns (total 6 columns):\n",
      " #   Column    Non-Null Count  Dtype \n",
      "---  ------    --------------  ----- \n",
      " 0   Price     1312 non-null   object\n",
      " 1   Currency  1312 non-null   object\n",
      " 2   Location  1312 non-null   object\n",
      " 3   Rooms     1312 non-null   object\n",
      " 4   Area      1312 non-null   object\n",
      " 5   Floor     1312 non-null   object\n",
      "dtypes: object(6)\n",
      "memory usage: 61.6+ KB\n"
     ]
    }
   ],
   "source": [
    "df.info()"
   ]
  },
  {
   "cell_type": "code",
   "execution_count": 9,
   "id": "004083d3",
   "metadata": {},
   "outputs": [
    {
     "data": {
      "text/html": [
       "<div>\n",
       "<style scoped>\n",
       "    .dataframe tbody tr th:only-of-type {\n",
       "        vertical-align: middle;\n",
       "    }\n",
       "\n",
       "    .dataframe tbody tr th {\n",
       "        vertical-align: top;\n",
       "    }\n",
       "\n",
       "    .dataframe thead th {\n",
       "        text-align: right;\n",
       "    }\n",
       "</style>\n",
       "<table border=\"1\" class=\"dataframe\">\n",
       "  <thead>\n",
       "    <tr style=\"text-align: right;\">\n",
       "      <th></th>\n",
       "      <th>Price</th>\n",
       "      <th>Currency</th>\n",
       "      <th>Location</th>\n",
       "      <th>Rooms</th>\n",
       "      <th>Area</th>\n",
       "      <th>Floor</th>\n",
       "    </tr>\n",
       "  </thead>\n",
       "  <tbody>\n",
       "    <tr>\n",
       "      <th>0</th>\n",
       "      <td>140 000</td>\n",
       "      <td>AZN</td>\n",
       "      <td>İnşaatçılar m.</td>\n",
       "      <td>2 otaqlı</td>\n",
       "      <td>50 m²</td>\n",
       "      <td>4/5 mərtəbə</td>\n",
       "    </tr>\n",
       "    <tr>\n",
       "      <th>1</th>\n",
       "      <td>414 000</td>\n",
       "      <td>AZN</td>\n",
       "      <td>Gənclik m.</td>\n",
       "      <td>3 otaqlı</td>\n",
       "      <td>140.8 m²</td>\n",
       "      <td>15/17 mərtəbə</td>\n",
       "    </tr>\n",
       "    <tr>\n",
       "      <th>2</th>\n",
       "      <td>235 000</td>\n",
       "      <td>AZN</td>\n",
       "      <td>28 May m.</td>\n",
       "      <td>3 otaqlı</td>\n",
       "      <td>70 m²</td>\n",
       "      <td>6/6 mərtəbə</td>\n",
       "    </tr>\n",
       "    <tr>\n",
       "      <th>3</th>\n",
       "      <td>335 000</td>\n",
       "      <td>AZN</td>\n",
       "      <td>Nəsimi r.</td>\n",
       "      <td>3 otaqlı</td>\n",
       "      <td>150 m²</td>\n",
       "      <td>4/17 mərtəbə</td>\n",
       "    </tr>\n",
       "    <tr>\n",
       "      <th>4</th>\n",
       "      <td>159 000</td>\n",
       "      <td>AZN</td>\n",
       "      <td>Həzi Aslanov m.</td>\n",
       "      <td>2 otaqlı</td>\n",
       "      <td>76 m²</td>\n",
       "      <td>11/16 mərtəbə</td>\n",
       "    </tr>\n",
       "    <tr>\n",
       "      <th>...</th>\n",
       "      <td>...</td>\n",
       "      <td>...</td>\n",
       "      <td>...</td>\n",
       "      <td>...</td>\n",
       "      <td>...</td>\n",
       "      <td>...</td>\n",
       "    </tr>\n",
       "    <tr>\n",
       "      <th>1307</th>\n",
       "      <td>310 000</td>\n",
       "      <td>AZN</td>\n",
       "      <td>20 Yanvar m.</td>\n",
       "      <td>3 otaqlı</td>\n",
       "      <td>130 m²</td>\n",
       "      <td>4/16 mərtəbə</td>\n",
       "    </tr>\n",
       "    <tr>\n",
       "      <th>1308</th>\n",
       "      <td>155 000</td>\n",
       "      <td>AZN</td>\n",
       "      <td>Nizami r.</td>\n",
       "      <td>3 otaqlı</td>\n",
       "      <td>95 m²</td>\n",
       "      <td>10/18 mərtəbə</td>\n",
       "    </tr>\n",
       "    <tr>\n",
       "      <th>1309</th>\n",
       "      <td>250 000</td>\n",
       "      <td>AZN</td>\n",
       "      <td>Bakıxanov q.</td>\n",
       "      <td>4 otaqlı</td>\n",
       "      <td>110 m²</td>\n",
       "      <td>3/5 mərtəbə</td>\n",
       "    </tr>\n",
       "    <tr>\n",
       "      <th>1310</th>\n",
       "      <td>170 000</td>\n",
       "      <td>AZN</td>\n",
       "      <td>Avtovağzal m.</td>\n",
       "      <td>3 otaqlı</td>\n",
       "      <td>113 m²</td>\n",
       "      <td>8/15 mərtəbə</td>\n",
       "    </tr>\n",
       "    <tr>\n",
       "      <th>1311</th>\n",
       "      <td>188 000</td>\n",
       "      <td>AZN</td>\n",
       "      <td>Qara Qarayev m.</td>\n",
       "      <td>3 otaqlı</td>\n",
       "      <td>78 m²</td>\n",
       "      <td>14/17 mərtəbə</td>\n",
       "    </tr>\n",
       "  </tbody>\n",
       "</table>\n",
       "<p>1312 rows × 6 columns</p>\n",
       "</div>"
      ],
      "text/plain": [
       "        Price Currency         Location     Rooms      Area          Floor\n",
       "0     140 000      AZN   İnşaatçılar m.  2 otaqlı     50 m²    4/5 mərtəbə\n",
       "1     414 000      AZN       Gənclik m.  3 otaqlı  140.8 m²  15/17 mərtəbə\n",
       "2     235 000      AZN        28 May m.  3 otaqlı     70 m²    6/6 mərtəbə\n",
       "3     335 000      AZN        Nəsimi r.  3 otaqlı    150 m²   4/17 mərtəbə\n",
       "4     159 000      AZN  Həzi Aslanov m.  2 otaqlı     76 m²  11/16 mərtəbə\n",
       "...       ...      ...              ...       ...       ...            ...\n",
       "1307  310 000      AZN     20 Yanvar m.  3 otaqlı    130 m²   4/16 mərtəbə\n",
       "1308  155 000      AZN        Nizami r.  3 otaqlı     95 m²  10/18 mərtəbə\n",
       "1309  250 000      AZN     Bakıxanov q.  4 otaqlı    110 m²    3/5 mərtəbə\n",
       "1310  170 000      AZN    Avtovağzal m.  3 otaqlı    113 m²   8/15 mərtəbə\n",
       "1311  188 000      AZN  Qara Qarayev m.  3 otaqlı     78 m²  14/17 mərtəbə\n",
       "\n",
       "[1312 rows x 6 columns]"
      ]
     },
     "execution_count": 9,
     "metadata": {},
     "output_type": "execute_result"
    }
   ],
   "source": [
    "df"
   ]
  },
  {
   "cell_type": "code",
   "execution_count": 10,
   "id": "5245d4c6",
   "metadata": {},
   "outputs": [],
   "source": [
    "df.drop([\"Currency\", \"Location\"], axis=1, inplace=True)"
   ]
  },
  {
   "cell_type": "code",
   "execution_count": 11,
   "id": "9737d474",
   "metadata": {},
   "outputs": [
    {
     "data": {
      "text/html": [
       "<div>\n",
       "<style scoped>\n",
       "    .dataframe tbody tr th:only-of-type {\n",
       "        vertical-align: middle;\n",
       "    }\n",
       "\n",
       "    .dataframe tbody tr th {\n",
       "        vertical-align: top;\n",
       "    }\n",
       "\n",
       "    .dataframe thead th {\n",
       "        text-align: right;\n",
       "    }\n",
       "</style>\n",
       "<table border=\"1\" class=\"dataframe\">\n",
       "  <thead>\n",
       "    <tr style=\"text-align: right;\">\n",
       "      <th></th>\n",
       "      <th>Price</th>\n",
       "      <th>Rooms</th>\n",
       "      <th>Area</th>\n",
       "      <th>Floor</th>\n",
       "    </tr>\n",
       "  </thead>\n",
       "  <tbody>\n",
       "    <tr>\n",
       "      <th>0</th>\n",
       "      <td>140 000</td>\n",
       "      <td>2 otaqlı</td>\n",
       "      <td>50 m²</td>\n",
       "      <td>4/5 mərtəbə</td>\n",
       "    </tr>\n",
       "    <tr>\n",
       "      <th>1</th>\n",
       "      <td>414 000</td>\n",
       "      <td>3 otaqlı</td>\n",
       "      <td>140.8 m²</td>\n",
       "      <td>15/17 mərtəbə</td>\n",
       "    </tr>\n",
       "    <tr>\n",
       "      <th>2</th>\n",
       "      <td>235 000</td>\n",
       "      <td>3 otaqlı</td>\n",
       "      <td>70 m²</td>\n",
       "      <td>6/6 mərtəbə</td>\n",
       "    </tr>\n",
       "    <tr>\n",
       "      <th>3</th>\n",
       "      <td>335 000</td>\n",
       "      <td>3 otaqlı</td>\n",
       "      <td>150 m²</td>\n",
       "      <td>4/17 mərtəbə</td>\n",
       "    </tr>\n",
       "    <tr>\n",
       "      <th>4</th>\n",
       "      <td>159 000</td>\n",
       "      <td>2 otaqlı</td>\n",
       "      <td>76 m²</td>\n",
       "      <td>11/16 mərtəbə</td>\n",
       "    </tr>\n",
       "    <tr>\n",
       "      <th>...</th>\n",
       "      <td>...</td>\n",
       "      <td>...</td>\n",
       "      <td>...</td>\n",
       "      <td>...</td>\n",
       "    </tr>\n",
       "    <tr>\n",
       "      <th>1307</th>\n",
       "      <td>310 000</td>\n",
       "      <td>3 otaqlı</td>\n",
       "      <td>130 m²</td>\n",
       "      <td>4/16 mərtəbə</td>\n",
       "    </tr>\n",
       "    <tr>\n",
       "      <th>1308</th>\n",
       "      <td>155 000</td>\n",
       "      <td>3 otaqlı</td>\n",
       "      <td>95 m²</td>\n",
       "      <td>10/18 mərtəbə</td>\n",
       "    </tr>\n",
       "    <tr>\n",
       "      <th>1309</th>\n",
       "      <td>250 000</td>\n",
       "      <td>4 otaqlı</td>\n",
       "      <td>110 m²</td>\n",
       "      <td>3/5 mərtəbə</td>\n",
       "    </tr>\n",
       "    <tr>\n",
       "      <th>1310</th>\n",
       "      <td>170 000</td>\n",
       "      <td>3 otaqlı</td>\n",
       "      <td>113 m²</td>\n",
       "      <td>8/15 mərtəbə</td>\n",
       "    </tr>\n",
       "    <tr>\n",
       "      <th>1311</th>\n",
       "      <td>188 000</td>\n",
       "      <td>3 otaqlı</td>\n",
       "      <td>78 m²</td>\n",
       "      <td>14/17 mərtəbə</td>\n",
       "    </tr>\n",
       "  </tbody>\n",
       "</table>\n",
       "<p>1312 rows × 4 columns</p>\n",
       "</div>"
      ],
      "text/plain": [
       "        Price     Rooms      Area          Floor\n",
       "0     140 000  2 otaqlı     50 m²    4/5 mərtəbə\n",
       "1     414 000  3 otaqlı  140.8 m²  15/17 mərtəbə\n",
       "2     235 000  3 otaqlı     70 m²    6/6 mərtəbə\n",
       "3     335 000  3 otaqlı    150 m²   4/17 mərtəbə\n",
       "4     159 000  2 otaqlı     76 m²  11/16 mərtəbə\n",
       "...       ...       ...       ...            ...\n",
       "1307  310 000  3 otaqlı    130 m²   4/16 mərtəbə\n",
       "1308  155 000  3 otaqlı     95 m²  10/18 mərtəbə\n",
       "1309  250 000  4 otaqlı    110 m²    3/5 mərtəbə\n",
       "1310  170 000  3 otaqlı    113 m²   8/15 mərtəbə\n",
       "1311  188 000  3 otaqlı     78 m²  14/17 mərtəbə\n",
       "\n",
       "[1312 rows x 4 columns]"
      ]
     },
     "execution_count": 11,
     "metadata": {},
     "output_type": "execute_result"
    }
   ],
   "source": [
    "df"
   ]
  },
  {
   "cell_type": "code",
   "execution_count": 12,
   "id": "7c232d97",
   "metadata": {},
   "outputs": [],
   "source": [
    "def eraseStringInRooms(col):\n",
    "    col_items = str(col).split(\" \")\n",
    "    col = int(col_items[0])\n",
    "    return col\n",
    "\n",
    "def eraseStringInArea(col):\n",
    "    col_items = str(col).split(\" \")\n",
    "    col = float(col_items[0])\n",
    "    return col\n",
    "\n",
    "def eraseSpaceInPrice(col):\n",
    "    col_items = str(col).split(\" \")\n",
    "    col = int(col_items[0] + col_items[1])\n",
    "    return col"
   ]
  },
  {
   "cell_type": "code",
   "execution_count": 13,
   "id": "abbae361",
   "metadata": {},
   "outputs": [],
   "source": [
    "df['Rooms'] = df['Rooms'].apply(eraseStringInRooms)\n",
    "df['Area'] = df['Area'].apply(eraseStringInArea)\n",
    "df['Price'] = df['Price'].apply(eraseSpaceInPrice)"
   ]
  },
  {
   "cell_type": "code",
   "execution_count": 14,
   "id": "8810f0ea",
   "metadata": {},
   "outputs": [
    {
     "name": "stdout",
     "output_type": "stream",
     "text": [
      "<class 'pandas.core.frame.DataFrame'>\n",
      "RangeIndex: 1312 entries, 0 to 1311\n",
      "Data columns (total 4 columns):\n",
      " #   Column  Non-Null Count  Dtype  \n",
      "---  ------  --------------  -----  \n",
      " 0   Price   1312 non-null   int64  \n",
      " 1   Rooms   1312 non-null   int64  \n",
      " 2   Area    1312 non-null   float64\n",
      " 3   Floor   1312 non-null   object \n",
      "dtypes: float64(1), int64(2), object(1)\n",
      "memory usage: 41.1+ KB\n"
     ]
    }
   ],
   "source": [
    "df.info()"
   ]
  },
  {
   "cell_type": "code",
   "execution_count": 15,
   "id": "e6f2d990",
   "metadata": {},
   "outputs": [],
   "source": [
    "Floor_splitted = df['Floor'].str.replace(\" mərtəbə\", \"\").str.split(\"/\")\n",
    "df['Height'] = 0\n",
    "for i in range(len(Floor_splitted)):\n",
    "    df.loc[i, 'Floor'] = Floor_splitted[i][0]\n",
    "    df.loc[i, 'Height'] = int(Floor_splitted[i][1])"
   ]
  },
  {
   "cell_type": "code",
   "execution_count": 16,
   "id": "1ca1853c",
   "metadata": {},
   "outputs": [],
   "source": [
    "df['Floor'] = df['Floor'].apply(int)"
   ]
  },
  {
   "cell_type": "code",
   "execution_count": 17,
   "id": "81fcfaab",
   "metadata": {},
   "outputs": [
    {
     "data": {
      "text/html": [
       "<div>\n",
       "<style scoped>\n",
       "    .dataframe tbody tr th:only-of-type {\n",
       "        vertical-align: middle;\n",
       "    }\n",
       "\n",
       "    .dataframe tbody tr th {\n",
       "        vertical-align: top;\n",
       "    }\n",
       "\n",
       "    .dataframe thead th {\n",
       "        text-align: right;\n",
       "    }\n",
       "</style>\n",
       "<table border=\"1\" class=\"dataframe\">\n",
       "  <thead>\n",
       "    <tr style=\"text-align: right;\">\n",
       "      <th></th>\n",
       "      <th>Price</th>\n",
       "      <th>Rooms</th>\n",
       "      <th>Area</th>\n",
       "      <th>Floor</th>\n",
       "      <th>Height</th>\n",
       "    </tr>\n",
       "  </thead>\n",
       "  <tbody>\n",
       "    <tr>\n",
       "      <th>0</th>\n",
       "      <td>140000</td>\n",
       "      <td>2</td>\n",
       "      <td>50.0</td>\n",
       "      <td>4</td>\n",
       "      <td>5</td>\n",
       "    </tr>\n",
       "    <tr>\n",
       "      <th>1</th>\n",
       "      <td>414000</td>\n",
       "      <td>3</td>\n",
       "      <td>140.8</td>\n",
       "      <td>15</td>\n",
       "      <td>17</td>\n",
       "    </tr>\n",
       "    <tr>\n",
       "      <th>2</th>\n",
       "      <td>235000</td>\n",
       "      <td>3</td>\n",
       "      <td>70.0</td>\n",
       "      <td>6</td>\n",
       "      <td>6</td>\n",
       "    </tr>\n",
       "    <tr>\n",
       "      <th>3</th>\n",
       "      <td>335000</td>\n",
       "      <td>3</td>\n",
       "      <td>150.0</td>\n",
       "      <td>4</td>\n",
       "      <td>17</td>\n",
       "    </tr>\n",
       "    <tr>\n",
       "      <th>4</th>\n",
       "      <td>159000</td>\n",
       "      <td>2</td>\n",
       "      <td>76.0</td>\n",
       "      <td>11</td>\n",
       "      <td>16</td>\n",
       "    </tr>\n",
       "    <tr>\n",
       "      <th>...</th>\n",
       "      <td>...</td>\n",
       "      <td>...</td>\n",
       "      <td>...</td>\n",
       "      <td>...</td>\n",
       "      <td>...</td>\n",
       "    </tr>\n",
       "    <tr>\n",
       "      <th>1307</th>\n",
       "      <td>310000</td>\n",
       "      <td>3</td>\n",
       "      <td>130.0</td>\n",
       "      <td>4</td>\n",
       "      <td>16</td>\n",
       "    </tr>\n",
       "    <tr>\n",
       "      <th>1308</th>\n",
       "      <td>155000</td>\n",
       "      <td>3</td>\n",
       "      <td>95.0</td>\n",
       "      <td>10</td>\n",
       "      <td>18</td>\n",
       "    </tr>\n",
       "    <tr>\n",
       "      <th>1309</th>\n",
       "      <td>250000</td>\n",
       "      <td>4</td>\n",
       "      <td>110.0</td>\n",
       "      <td>3</td>\n",
       "      <td>5</td>\n",
       "    </tr>\n",
       "    <tr>\n",
       "      <th>1310</th>\n",
       "      <td>170000</td>\n",
       "      <td>3</td>\n",
       "      <td>113.0</td>\n",
       "      <td>8</td>\n",
       "      <td>15</td>\n",
       "    </tr>\n",
       "    <tr>\n",
       "      <th>1311</th>\n",
       "      <td>188000</td>\n",
       "      <td>3</td>\n",
       "      <td>78.0</td>\n",
       "      <td>14</td>\n",
       "      <td>17</td>\n",
       "    </tr>\n",
       "  </tbody>\n",
       "</table>\n",
       "<p>1312 rows × 5 columns</p>\n",
       "</div>"
      ],
      "text/plain": [
       "       Price  Rooms   Area  Floor  Height\n",
       "0     140000      2   50.0      4       5\n",
       "1     414000      3  140.8     15      17\n",
       "2     235000      3   70.0      6       6\n",
       "3     335000      3  150.0      4      17\n",
       "4     159000      2   76.0     11      16\n",
       "...      ...    ...    ...    ...     ...\n",
       "1307  310000      3  130.0      4      16\n",
       "1308  155000      3   95.0     10      18\n",
       "1309  250000      4  110.0      3       5\n",
       "1310  170000      3  113.0      8      15\n",
       "1311  188000      3   78.0     14      17\n",
       "\n",
       "[1312 rows x 5 columns]"
      ]
     },
     "execution_count": 17,
     "metadata": {},
     "output_type": "execute_result"
    }
   ],
   "source": [
    "df"
   ]
  },
  {
   "cell_type": "code",
   "execution_count": 18,
   "id": "31aed059",
   "metadata": {},
   "outputs": [],
   "source": [
    "X = df[['Rooms', 'Floor', 'Height', 'Area']]\n",
    "Y = df['Price']"
   ]
  },
  {
   "cell_type": "code",
   "execution_count": 19,
   "id": "b3ce921e",
   "metadata": {},
   "outputs": [
    {
     "data": {
      "text/html": [
       "<div>\n",
       "<style scoped>\n",
       "    .dataframe tbody tr th:only-of-type {\n",
       "        vertical-align: middle;\n",
       "    }\n",
       "\n",
       "    .dataframe tbody tr th {\n",
       "        vertical-align: top;\n",
       "    }\n",
       "\n",
       "    .dataframe thead th {\n",
       "        text-align: right;\n",
       "    }\n",
       "</style>\n",
       "<table border=\"1\" class=\"dataframe\">\n",
       "  <thead>\n",
       "    <tr style=\"text-align: right;\">\n",
       "      <th></th>\n",
       "      <th>Rooms</th>\n",
       "      <th>Floor</th>\n",
       "      <th>Height</th>\n",
       "      <th>Area</th>\n",
       "    </tr>\n",
       "  </thead>\n",
       "  <tbody>\n",
       "    <tr>\n",
       "      <th>0</th>\n",
       "      <td>2</td>\n",
       "      <td>4</td>\n",
       "      <td>5</td>\n",
       "      <td>50.0</td>\n",
       "    </tr>\n",
       "    <tr>\n",
       "      <th>1</th>\n",
       "      <td>3</td>\n",
       "      <td>15</td>\n",
       "      <td>17</td>\n",
       "      <td>140.8</td>\n",
       "    </tr>\n",
       "    <tr>\n",
       "      <th>2</th>\n",
       "      <td>3</td>\n",
       "      <td>6</td>\n",
       "      <td>6</td>\n",
       "      <td>70.0</td>\n",
       "    </tr>\n",
       "    <tr>\n",
       "      <th>3</th>\n",
       "      <td>3</td>\n",
       "      <td>4</td>\n",
       "      <td>17</td>\n",
       "      <td>150.0</td>\n",
       "    </tr>\n",
       "    <tr>\n",
       "      <th>4</th>\n",
       "      <td>2</td>\n",
       "      <td>11</td>\n",
       "      <td>16</td>\n",
       "      <td>76.0</td>\n",
       "    </tr>\n",
       "    <tr>\n",
       "      <th>...</th>\n",
       "      <td>...</td>\n",
       "      <td>...</td>\n",
       "      <td>...</td>\n",
       "      <td>...</td>\n",
       "    </tr>\n",
       "    <tr>\n",
       "      <th>1307</th>\n",
       "      <td>3</td>\n",
       "      <td>4</td>\n",
       "      <td>16</td>\n",
       "      <td>130.0</td>\n",
       "    </tr>\n",
       "    <tr>\n",
       "      <th>1308</th>\n",
       "      <td>3</td>\n",
       "      <td>10</td>\n",
       "      <td>18</td>\n",
       "      <td>95.0</td>\n",
       "    </tr>\n",
       "    <tr>\n",
       "      <th>1309</th>\n",
       "      <td>4</td>\n",
       "      <td>3</td>\n",
       "      <td>5</td>\n",
       "      <td>110.0</td>\n",
       "    </tr>\n",
       "    <tr>\n",
       "      <th>1310</th>\n",
       "      <td>3</td>\n",
       "      <td>8</td>\n",
       "      <td>15</td>\n",
       "      <td>113.0</td>\n",
       "    </tr>\n",
       "    <tr>\n",
       "      <th>1311</th>\n",
       "      <td>3</td>\n",
       "      <td>14</td>\n",
       "      <td>17</td>\n",
       "      <td>78.0</td>\n",
       "    </tr>\n",
       "  </tbody>\n",
       "</table>\n",
       "<p>1312 rows × 4 columns</p>\n",
       "</div>"
      ],
      "text/plain": [
       "      Rooms  Floor  Height   Area\n",
       "0         2      4       5   50.0\n",
       "1         3     15      17  140.8\n",
       "2         3      6       6   70.0\n",
       "3         3      4      17  150.0\n",
       "4         2     11      16   76.0\n",
       "...     ...    ...     ...    ...\n",
       "1307      3      4      16  130.0\n",
       "1308      3     10      18   95.0\n",
       "1309      4      3       5  110.0\n",
       "1310      3      8      15  113.0\n",
       "1311      3     14      17   78.0\n",
       "\n",
       "[1312 rows x 4 columns]"
      ]
     },
     "execution_count": 19,
     "metadata": {},
     "output_type": "execute_result"
    }
   ],
   "source": [
    "X"
   ]
  },
  {
   "cell_type": "code",
   "execution_count": 20,
   "id": "245f0dab",
   "metadata": {},
   "outputs": [
    {
     "data": {
      "text/plain": [
       "0       140000\n",
       "1       414000\n",
       "2       235000\n",
       "3       335000\n",
       "4       159000\n",
       "         ...  \n",
       "1307    310000\n",
       "1308    155000\n",
       "1309    250000\n",
       "1310    170000\n",
       "1311    188000\n",
       "Name: Price, Length: 1312, dtype: int64"
      ]
     },
     "execution_count": 20,
     "metadata": {},
     "output_type": "execute_result"
    }
   ],
   "source": [
    "Y"
   ]
  },
  {
   "cell_type": "code",
   "execution_count": 21,
   "id": "bfe6142e",
   "metadata": {},
   "outputs": [],
   "source": [
    "model = LinearRegression1()"
   ]
  },
  {
   "cell_type": "code",
   "execution_count": 22,
   "id": "83965377",
   "metadata": {},
   "outputs": [],
   "source": [
    "w = [1, 1, 1, 1]"
   ]
  },
  {
   "cell_type": "code",
   "execution_count": 23,
   "id": "6e56d61b",
   "metadata": {},
   "outputs": [
    {
     "data": {
      "text/plain": [
       "np.float64(48469020010.34784)"
      ]
     },
     "execution_count": 23,
     "metadata": {},
     "output_type": "execute_result"
    }
   ],
   "source": [
    "model.costFunction(X, Y, w)"
   ]
  },
  {
   "cell_type": "code",
   "execution_count": 24,
   "id": "7adef7a8",
   "metadata": {},
   "outputs": [
    {
     "name": "stdout",
     "output_type": "stream",
     "text": [
      "Early stopping at epoch 7703, cost difference: 0.0\n"
     ]
    },
    {
     "data": {
      "text/plain": [
       "<linear_regression.LinearRegression1 at 0x1241117f0>"
      ]
     },
     "execution_count": 24,
     "metadata": {},
     "output_type": "execute_result"
    }
   ],
   "source": [
    "model.fit(X, Y)"
   ]
  },
  {
   "cell_type": "code",
   "execution_count": 25,
   "id": "40aeb3a9",
   "metadata": {},
   "outputs": [],
   "source": [
    "np.set_printoptions(suppress=True)\n",
    "Y_pred = model.predict(X)"
   ]
  },
  {
   "cell_type": "code",
   "execution_count": 26,
   "id": "057ca848",
   "metadata": {},
   "outputs": [
    {
     "data": {
      "text/plain": [
       "array([164183.6512092 , 333408.1921673 , 195134.62864859, ...,\n",
       "       261946.82304179, 283543.20123816, 220077.50376538], shape=(1312,))"
      ]
     },
     "execution_count": 26,
     "metadata": {},
     "output_type": "execute_result"
    }
   ],
   "source": [
    "Y_pred"
   ]
  },
  {
   "cell_type": "code",
   "execution_count": 27,
   "id": "86b8e0cb",
   "metadata": {},
   "outputs": [],
   "source": [
    "from sklearn.linear_model import LinearRegression\n",
    "\n",
    "model_real = LinearRegression()\n",
    "\n",
    "model_real.fit(X, Y)\n",
    "\n",
    "Y_pred_real = model_real.predict(X)"
   ]
  },
  {
   "cell_type": "code",
   "execution_count": 28,
   "id": "275f93d8",
   "metadata": {},
   "outputs": [
    {
     "data": {
      "text/plain": [
       "0        24183.651209\n",
       "1       -80591.807833\n",
       "2       -39865.371351\n",
       "3        19824.838829\n",
       "4        63165.524927\n",
       "            ...      \n",
       "1307      7330.541213\n",
       "1308     98864.843740\n",
       "1309     11946.823042\n",
       "1310    113543.201238\n",
       "1311     32077.503765\n",
       "Name: Price, Length: 1312, dtype: float64"
      ]
     },
     "execution_count": 28,
     "metadata": {},
     "output_type": "execute_result"
    }
   ],
   "source": [
    "Y_pred - Y"
   ]
  },
  {
   "cell_type": "code",
   "execution_count": 29,
   "id": "78c2f627",
   "metadata": {},
   "outputs": [
    {
     "data": {
      "image/png": "[encoded data removed]",
      "text/plain": [
       "<Figure size 800x600 with 1 Axes>"
      ]
     },
     "metadata": {},
     "output_type": "display_data"
    }
   ],
   "source": [
    "plt.figure(figsize=(8, 6))\n",
    "plt.scatter(Y, Y_pred, color='blue', edgecolor='k', alpha=0.7)\n",
    "plt.plot([min(Y), max(Y)], [min(Y), max(Y)], color='red', linestyle='--')\n",
    "plt.xlabel(\"Actual Values\")\n",
    "plt.ylabel(\"Predicted Values\")\n",
    "plt.title(\"Actual vs Predicted Values\")\n",
    "plt.grid(True)\n",
    "plt.show()"
   ]
  },
  {
   "cell_type": "code",
   "execution_count": 30,
   "id": "771e07b3",
   "metadata": {},
   "outputs": [
    {
     "data": {
      "text/plain": [
       "np.float64(0.3912458236401598)"
      ]
     },
     "execution_count": 30,
     "metadata": {},
     "output_type": "execute_result"
    }
   ],
   "source": [
    "model.score(X, Y)"
   ]
  },
  {
   "cell_type": "code",
   "execution_count": 31,
   "id": "97c1f28c",
   "metadata": {},
   "outputs": [
    {
     "data": {
      "text/plain": [
       "array([343384.25867255])"
      ]
     },
     "execution_count": 31,
     "metadata": {},
     "output_type": "execute_result"
    }
   ],
   "source": [
    "model.predict([3, 10, 10, 150.0])"
   ]
  },
  {
   "cell_type": "code",
   "execution_count": 32,
   "id": "8041ca5e",
   "metadata": {},
   "outputs": [
    {
     "data": {
      "text/plain": [
       "np.float64(0.3912458236401598)"
      ]
     },
     "execution_count": 32,
     "metadata": {},
     "output_type": "execute_result"
    }
   ],
   "source": [
    "model.score(X, Y)"
   ]
  }
 ],
 "metadata": {
  "kernelspec": {
   "display_name": ".venv",
   "language": "python",
   "name": "python3"
  },
  "language_info": {
   "codemirror_mode": {
    "name": "ipython",
    "version": 3
   },
   "file_extension": ".py",
   "mimetype": "text/x-python",
   "name": "python",
   "nbconvert_exporter": "python",
   "pygments_lexer": "ipython3",
   "version": "3.13.1"
  }
 },
 "nbformat": 4,
 "nbformat_minor": 5
}
